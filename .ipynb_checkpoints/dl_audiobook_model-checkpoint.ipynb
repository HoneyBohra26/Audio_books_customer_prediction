{
 "cells": [
  {
   "cell_type": "code",
   "execution_count": 7,
   "id": "a5301cd0-1cf2-4692-9da7-cad7b4668009",
   "metadata": {},
   "outputs": [],
   "source": [
    "import numpy as np\n",
    "import tensorflow as tf"
   ]
  },
  {
   "cell_type": "markdown",
   "id": "c24933c9-69df-465d-afb8-890c8d874871",
   "metadata": {},
   "source": [
    "## Import the Data"
   ]
  },
  {
   "cell_type": "code",
   "execution_count": 8,
   "id": "03494f38-19f6-4c8b-8b45-0db1f3446671",
   "metadata": {},
   "outputs": [
    {
     "data": {
      "text/plain": [
       "(3579, 10)"
      ]
     },
     "execution_count": 8,
     "metadata": {},
     "output_type": "execute_result"
    }
   ],
   "source": [
    "train_data = np.load('Audiobooks_train_data.npz')\n",
    "train_input = train_data['input'].astype(float)\n",
    "train_target = train_data['target'].astype(int)\n",
    "\n",
    "validation_data = np.load('Audiobooks_validation_data.npz')\n",
    "validation_input = validation_data['input'].astype(float)\n",
    "validation_target = validation_data['target'].astype(int)\n",
    "\n",
    "test_data = np.load('Audiobooks_test_data.npz')\n",
    "test_input = test_data['input'].astype(float)\n",
    "test_target = test_data['target'].astype(int)\n",
    "\n",
    "train_input.shape"
   ]
  },
  {
   "cell_type": "markdown",
   "id": "4e3f694e-67d6-4496-8b14-10902736b06a",
   "metadata": {},
   "source": [
    "## Model"
   ]
  },
  {
   "cell_type": "code",
   "execution_count": 11,
   "id": "e67efc8d-003f-4cf0-bfde-e14d62fdd429",
   "metadata": {},
   "outputs": [],
   "source": [
    "output_layer = 2\n",
    "hidden_layer = 100\n",
    "\n",
    "model = tf.keras.Sequential([\n",
    "                            tf.keras.layers.Dense(hidden_layer,activation = 'relu'),\n",
    "                            tf.keras.layers.Dense(hidden_layer,activation = 'relu'),\n",
    "                          \n",
    "                            tf.keras.layers.Dense(output_layer,activation = 'softmax')\n",
    "    \n",
    "])\n",
    "\n",
    "model.compile(optimizer = tf.keras.optimizers.Adam(), loss = 'sparse_categorical_crossentropy', metrics = ['accuracy'])"
   ]
  },
  {
   "cell_type": "markdown",
   "id": "db612f5a-5372-4328-be70-47cb33aea035",
   "metadata": {},
   "source": [
    "## Train the Model"
   ]
  },
  {
   "cell_type": "code",
   "execution_count": 12,
   "id": "e5f0929d-8351-4f20-a550-b19dd076aa47",
   "metadata": {},
   "outputs": [
    {
     "name": "stdout",
     "output_type": "stream",
     "text": [
      "Epoch 1/100\n",
      "36/36 - 1s - 16ms/step - accuracy: 0.7170 - loss: 0.5187 - val_accuracy: 0.7875 - val_loss: 0.4355\n",
      "Epoch 2/100\n",
      "36/36 - 0s - 1ms/step - accuracy: 0.7782 - loss: 0.4134 - val_accuracy: 0.7808 - val_loss: 0.3923\n",
      "Epoch 3/100\n",
      "36/36 - 0s - 1ms/step - accuracy: 0.7904 - loss: 0.3807 - val_accuracy: 0.7919 - val_loss: 0.3853\n",
      "Epoch 4/100\n",
      "36/36 - 0s - 2ms/step - accuracy: 0.8011 - loss: 0.3660 - val_accuracy: 0.7919 - val_loss: 0.3681\n",
      "Epoch 5/100\n",
      "36/36 - 0s - 1ms/step - accuracy: 0.8120 - loss: 0.3556 - val_accuracy: 0.7942 - val_loss: 0.3661\n",
      "Epoch 6/100\n",
      "36/36 - 0s - 1ms/step - accuracy: 0.8203 - loss: 0.3451 - val_accuracy: 0.7897 - val_loss: 0.3598\n",
      "Epoch 7/100\n",
      "36/36 - 0s - 1ms/step - accuracy: 0.8175 - loss: 0.3448 - val_accuracy: 0.7987 - val_loss: 0.3534\n",
      "Epoch 8/100\n",
      "36/36 - 0s - 1ms/step - accuracy: 0.8148 - loss: 0.3413 - val_accuracy: 0.7897 - val_loss: 0.3529\n",
      "Epoch 9/100\n",
      "36/36 - 0s - 1ms/step - accuracy: 0.8145 - loss: 0.3347 - val_accuracy: 0.8076 - val_loss: 0.3432\n",
      "Epoch 10/100\n",
      "36/36 - 0s - 1ms/step - accuracy: 0.8259 - loss: 0.3332 - val_accuracy: 0.8009 - val_loss: 0.3494\n",
      "Epoch 11/100\n",
      "36/36 - 0s - 1ms/step - accuracy: 0.8223 - loss: 0.3311 - val_accuracy: 0.8076 - val_loss: 0.3637\n",
      "Epoch 12/100\n",
      "36/36 - 0s - 1ms/step - accuracy: 0.8209 - loss: 0.3298 - val_accuracy: 0.7964 - val_loss: 0.3503\n",
      "Epoch 13/100\n",
      "36/36 - 0s - 1ms/step - accuracy: 0.8234 - loss: 0.3270 - val_accuracy: 0.8031 - val_loss: 0.3445\n",
      "Epoch 14/100\n",
      "36/36 - 0s - 1ms/step - accuracy: 0.8198 - loss: 0.3307 - val_accuracy: 0.7875 - val_loss: 0.3642\n"
     ]
    },
    {
     "data": {
      "text/plain": [
       "<keras.src.callbacks.history.History at 0x7a98303ad9d0>"
      ]
     },
     "execution_count": 12,
     "metadata": {},
     "output_type": "execute_result"
    }
   ],
   "source": [
    "num_epochs = 100\n",
    "batchSize = 100\n",
    "early_stopping = tf.keras.callbacks.EarlyStopping(patience = 5)\n",
    "model.fit(train_input, train_target,\n",
    "          epochs = num_epochs,\n",
    "          batch_size=batchSize,\n",
    "          callbacks = early_stopping,\n",
    "          validation_data = (validation_input,validation_target),\n",
    "          verbose = 2)"
   ]
  },
  {
   "cell_type": "markdown",
   "id": "33535246-bc93-494a-a602-b2dc1aed5e03",
   "metadata": {},
   "source": [
    "## Test Accuracy"
   ]
  },
  {
   "cell_type": "code",
   "execution_count": 20,
   "id": "f92da47f-e96d-4629-8002-2936a1f88ebd",
   "metadata": {},
   "outputs": [
    {
     "name": "stdout",
     "output_type": "stream",
     "text": [
      "\u001b[1m14/14\u001b[0m \u001b[32m━━━━━━━━━━━━━━━━━━━━\u001b[0m\u001b[37m\u001b[0m \u001b[1m0s\u001b[0m 778us/step - accuracy: 0.8417 - loss: 0.2747\n"
     ]
    }
   ],
   "source": [
    "test_loss,test_accuracy, = model.evaluate(test_input,test_target)"
   ]
  },
  {
   "cell_type": "code",
   "execution_count": 21,
   "id": "a6ee37d0-521f-4d49-8d2d-75ee92dc7c10",
   "metadata": {},
   "outputs": [
    {
     "name": "stdout",
     "output_type": "stream",
     "text": [
      "\n",
      "Test loss: 0.31. Test accuracy: 81.25%\n"
     ]
    }
   ],
   "source": [
    "print('\\nTest loss: {0:0.2f}. Test accuracy: {1:0.2f}%'.format(test_loss,test_accuracy*100.))"
   ]
  },
  {
   "cell_type": "markdown",
   "id": "e5cadbbb-710c-42c6-9662-f929e9c11b0d",
   "metadata": {},
   "source": [
    "## Obtain the probability for a customer to convert"
   ]
  },
  {
   "cell_type": "code",
   "execution_count": 26,
   "id": "e34a4f84-7ada-4c8f-a82c-89c407e0c88a",
   "metadata": {},
   "outputs": [
    {
     "name": "stdout",
     "output_type": "stream",
     "text": [
      "\u001b[1m14/14\u001b[0m \u001b[32m━━━━━━━━━━━━━━━━━━━━\u001b[0m\u001b[37m\u001b[0m \u001b[1m0s\u001b[0m 790us/step\n"
     ]
    },
    {
     "data": {
      "text/plain": [
       "array([0.  , 1.  , 0.  , 0.99, 0.  , 0.  , 0.84, 0.  , 0.97, 0.74, 0.  ,\n",
       "       0.45, 0.  , 0.  , 0.  , 0.43, 0.01, 0.33, 0.78, 0.  , 0.87, 0.  ,\n",
       "       1.  , 0.44, 1.  , 1.  , 0.98, 0.  , 0.43, 0.  , 0.88, 0.  , 0.48,\n",
       "       0.62, 0.3 , 0.43, 0.47, 0.48, 0.63, 1.  , 0.81, 0.97, 0.  , 0.  ,\n",
       "       0.25, 0.99, 1.  , 0.  , 0.77, 0.57, 1.  , 1.  , 1.  , 0.65, 0.  ,\n",
       "       0.  , 0.28, 1.  , 0.85, 1.  , 0.85, 0.83, 0.97, 1.  , 0.44, 1.  ,\n",
       "       0.44, 1.  , 0.08, 0.7 , 0.  , 0.44, 0.  , 0.  , 1.  , 0.  , 0.44,\n",
       "       1.  , 0.6 , 0.36, 0.71, 0.53, 0.51, 1.  , 0.41, 0.96, 0.53, 0.5 ,\n",
       "       0.  , 0.15, 0.95, 0.46, 0.66, 0.  , 0.  , 0.35, 0.96, 1.  , 0.33,\n",
       "       0.63, 0.33, 0.32, 0.  , 0.44, 0.81, 0.88, 1.  , 0.62, 0.33, 0.44,\n",
       "       0.58, 0.  , 1.  , 0.44, 1.  , 0.  , 0.35, 1.  , 0.6 , 0.72, 1.  ,\n",
       "       0.38, 0.  , 0.  , 0.99, 0.99, 1.  , 0.  , 0.99, 0.33, 1.  , 1.  ,\n",
       "       0.66, 0.44, 0.99, 0.86, 0.  , 0.  , 1.  , 0.68, 0.  , 0.38, 0.46,\n",
       "       0.  , 0.98, 1.  , 0.91, 0.13, 0.69, 0.35, 1.  , 1.  , 0.86, 0.71,\n",
       "       0.17, 0.87, 1.  , 0.72, 1.  , 0.  , 0.  , 0.65, 1.  , 0.  , 0.69,\n",
       "       0.  , 1.  , 0.  , 0.39, 0.73, 0.44, 0.57, 0.  , 0.85, 1.  , 0.  ,\n",
       "       0.43, 0.47, 0.97, 1.  , 1.  , 0.  , 0.33, 1.  , 0.68, 1.  , 0.98,\n",
       "       0.86, 0.  , 0.87, 0.48, 0.75, 0.  , 0.4 , 0.3 , 1.  , 0.57, 0.01,\n",
       "       0.86, 0.  , 1.  , 0.63, 0.  , 0.8 , 0.65, 0.  , 0.52, 1.  , 0.  ,\n",
       "       0.  , 1.  , 0.61, 0.  , 0.02, 1.  , 0.  , 1.  , 0.33, 0.  , 1.  ,\n",
       "       0.52, 0.  , 0.  , 0.6 , 0.  , 0.48, 1.  , 0.43, 0.  , 0.  , 0.33,\n",
       "       0.85, 0.  , 0.4 , 1.  , 0.  , 0.  , 0.68, 0.  , 0.46, 0.  , 0.17,\n",
       "       0.93, 1.  , 1.  , 1.  , 0.  , 1.  , 0.73, 1.  , 0.  , 0.  , 1.  ,\n",
       "       1.  , 0.99, 0.  , 0.86, 1.  , 0.  , 0.06, 0.98, 0.6 , 0.  , 0.86,\n",
       "       0.99, 0.04, 0.  , 0.48, 0.79, 1.  , 0.  , 0.33, 0.31, 0.  , 0.6 ,\n",
       "       0.83, 0.51, 0.68, 0.7 , 0.33, 0.  , 0.98, 1.  , 0.38, 0.46, 0.  ,\n",
       "       0.  , 0.  , 0.47, 0.44, 0.86, 0.77, 0.63, 0.  , 0.  , 0.  , 1.  ,\n",
       "       1.  , 0.  , 0.1 , 1.  , 0.44, 1.  , 0.01, 0.38, 1.  , 0.65, 0.38,\n",
       "       0.33, 1.  , 0.45, 0.7 , 0.  , 0.89, 0.82, 1.  , 0.48, 0.98, 1.  ,\n",
       "       0.  , 0.52, 1.  , 0.  , 0.77, 1.  , 0.59, 0.65, 0.53, 0.65, 0.12,\n",
       "       0.95, 0.01, 0.76, 0.  , 0.96, 1.  , 0.91, 0.77, 0.44, 0.19, 0.63,\n",
       "       0.79, 0.72, 0.  , 1.  , 0.02, 0.46, 0.44, 1.  , 0.51, 0.12, 0.  ,\n",
       "       0.19, 0.52, 1.  , 0.  , 0.63, 0.  , 0.  , 0.47, 0.  , 0.66, 0.86,\n",
       "       1.  , 0.  , 0.76, 0.61, 0.53, 0.99, 0.7 , 0.  , 0.  , 1.  , 0.92,\n",
       "       1.  , 0.  , 0.  , 0.8 , 0.77, 0.  , 0.  , 0.33, 1.  , 0.65, 1.  ,\n",
       "       0.86, 0.99, 0.48, 0.38, 0.39, 1.  , 0.  , 0.76, 0.65, 0.44, 0.66,\n",
       "       0.  , 0.86, 0.41, 0.  , 0.47, 1.  , 0.57, 0.62, 0.66, 0.45, 0.46,\n",
       "       0.  , 0.  , 0.  , 0.58, 1.  , 0.57, 0.47, 0.38, 0.  , 0.48, 0.63,\n",
       "       0.  , 0.63, 0.  , 0.  , 0.86, 0.  , 0.37, 0.01, 0.  , 0.  , 0.61,\n",
       "       0.01, 0.  , 0.71, 0.33, 0.33, 0.99, 0.  , 1.  , 0.  , 0.33, 0.  ,\n",
       "       0.4 , 0.44, 1.  , 0.92, 0.78, 1.  , 0.57, 0.33], dtype=float32)"
      ]
     },
     "execution_count": 26,
     "metadata": {},
     "output_type": "execute_result"
    }
   ],
   "source": [
    "model.predict(test_input).round(2)[:,1]"
   ]
  },
  {
   "cell_type": "code",
   "execution_count": 23,
   "id": "3e0d7b29-318f-4fda-91c0-ea0996034f6f",
   "metadata": {},
   "outputs": [
    {
     "name": "stdout",
     "output_type": "stream",
     "text": [
      "\u001b[1m14/14\u001b[0m \u001b[32m━━━━━━━━━━━━━━━━━━━━\u001b[0m\u001b[37m\u001b[0m \u001b[1m0s\u001b[0m 1ms/step \n"
     ]
    },
    {
     "data": {
      "text/plain": [
       "array([0, 1, 0, 1, 0, 0, 1, 0, 1, 1, 0, 0, 0, 0, 0, 0, 0, 0, 1, 0, 1, 0,\n",
       "       1, 0, 1, 1, 1, 0, 0, 0, 1, 0, 0, 1, 0, 0, 0, 0, 1, 1, 1, 1, 0, 0,\n",
       "       0, 1, 1, 0, 1, 1, 1, 1, 1, 1, 0, 0, 0, 1, 1, 1, 1, 1, 1, 1, 0, 1,\n",
       "       0, 1, 0, 1, 0, 0, 0, 0, 1, 0, 0, 1, 1, 0, 1, 1, 1, 1, 0, 1, 1, 0,\n",
       "       0, 0, 1, 0, 1, 0, 0, 0, 1, 1, 0, 1, 0, 0, 0, 0, 1, 1, 1, 1, 0, 0,\n",
       "       1, 0, 1, 0, 1, 0, 0, 1, 1, 1, 1, 0, 0, 0, 1, 1, 1, 0, 1, 0, 1, 1,\n",
       "       1, 0, 1, 1, 0, 0, 1, 1, 0, 0, 0, 0, 1, 1, 1, 0, 1, 0, 1, 1, 1, 1,\n",
       "       0, 1, 1, 1, 1, 0, 0, 1, 1, 0, 1, 0, 1, 0, 0, 1, 0, 1, 0, 1, 1, 0,\n",
       "       0, 0, 1, 1, 1, 0, 0, 1, 1, 1, 1, 1, 0, 1, 0, 1, 0, 0, 0, 1, 1, 0,\n",
       "       1, 0, 1, 1, 0, 1, 1, 0, 1, 1, 0, 0, 1, 1, 0, 0, 1, 0, 1, 0, 0, 1,\n",
       "       1, 0, 0, 1, 0, 0, 1, 0, 0, 0, 0, 1, 0, 0, 1, 0, 0, 1, 0, 0, 0, 0,\n",
       "       1, 1, 1, 1, 0, 1, 1, 1, 0, 0, 1, 1, 1, 0, 1, 1, 0, 0, 1, 1, 0, 1,\n",
       "       1, 0, 0, 0, 1, 1, 0, 0, 0, 0, 1, 1, 1, 1, 1, 0, 0, 1, 1, 0, 0, 0,\n",
       "       0, 0, 0, 0, 1, 1, 1, 0, 0, 0, 1, 1, 0, 0, 1, 0, 1, 0, 0, 1, 1, 0,\n",
       "       0, 1, 0, 1, 0, 1, 1, 1, 0, 1, 1, 0, 1, 1, 0, 1, 1, 1, 1, 1, 1, 0,\n",
       "       1, 0, 1, 0, 1, 1, 1, 1, 0, 0, 1, 1, 1, 0, 1, 0, 0, 0, 1, 1, 0, 0,\n",
       "       0, 1, 1, 0, 1, 0, 0, 0, 0, 1, 1, 1, 0, 1, 1, 1, 1, 1, 0, 0, 1, 1,\n",
       "       1, 0, 0, 1, 1, 0, 0, 0, 1, 1, 1, 1, 1, 0, 0, 0, 1, 0, 1, 1, 0, 1,\n",
       "       0, 1, 0, 0, 0, 1, 1, 1, 1, 0, 0, 0, 0, 0, 1, 1, 1, 0, 0, 0, 0, 1,\n",
       "       0, 1, 0, 0, 1, 0, 0, 0, 0, 0, 1, 0, 0, 1, 0, 0, 1, 0, 1, 0, 0, 0,\n",
       "       0, 0, 1, 1, 1, 1, 1, 0])"
      ]
     },
     "execution_count": 23,
     "metadata": {},
     "output_type": "execute_result"
    }
   ],
   "source": [
    "np.argmax(model.predict(test_input),axis=1)"
   ]
  },
  {
   "cell_type": "markdown",
   "id": "eec900ee-5e32-4a13-b166-3beadb758312",
   "metadata": {},
   "source": [
    "## Save the Model"
   ]
  },
  {
   "cell_type": "code",
   "execution_count": 24,
   "id": "f5f08766-0a31-49b0-b8f0-b687bfcdbf7a",
   "metadata": {},
   "outputs": [
    {
     "name": "stderr",
     "output_type": "stream",
     "text": [
      "WARNING:absl:You are saving your model as an HDF5 file via `model.save()` or `keras.saving.save_model(model)`. This file format is considered legacy. We recommend using instead the native Keras format, e.g. `model.save('my_model.keras')` or `keras.saving.save_model(model, 'my_model.keras')`. \n"
     ]
    }
   ],
   "source": [
    "model.save('audioBooks_model.h5')"
   ]
  },
  {
   "cell_type": "code",
   "execution_count": null,
   "id": "580af8f6-743d-4efa-8420-cbfda4f69418",
   "metadata": {},
   "outputs": [],
   "source": []
  },
  {
   "cell_type": "code",
   "execution_count": null,
   "id": "642f2ec9-23de-41c4-9263-370398d14063",
   "metadata": {},
   "outputs": [],
   "source": []
  }
 ],
 "metadata": {
  "kernelspec": {
   "display_name": "Python 3 (ipykernel)",
   "language": "python",
   "name": "python3"
  },
  "language_info": {
   "codemirror_mode": {
    "name": "ipython",
    "version": 3
   },
   "file_extension": ".py",
   "mimetype": "text/x-python",
   "name": "python",
   "nbconvert_exporter": "python",
   "pygments_lexer": "ipython3",
   "version": "3.10.12"
  }
 },
 "nbformat": 4,
 "nbformat_minor": 5
}
