{
 "cells": [
  {
   "cell_type": "code",
   "execution_count": 1,
   "id": "c6b367bb-3bfc-463e-8abd-929a587582d7",
   "metadata": {},
   "outputs": [
    {
     "name": "stderr",
     "output_type": "stream",
     "text": [
      "2024-07-03 14:07:35.498493: I tensorflow/core/util/port.cc:113] oneDNN custom operations are on. You may see slightly different numerical results due to floating-point round-off errors from different computation orders. To turn them off, set the environment variable `TF_ENABLE_ONEDNN_OPTS=0`.\n",
      "2024-07-03 14:07:35.509110: E external/local_xla/xla/stream_executor/cuda/cuda_fft.cc:479] Unable to register cuFFT factory: Attempting to register factory for plugin cuFFT when one has already been registered\n",
      "2024-07-03 14:07:35.521810: E external/local_xla/xla/stream_executor/cuda/cuda_dnn.cc:10575] Unable to register cuDNN factory: Attempting to register factory for plugin cuDNN when one has already been registered\n",
      "2024-07-03 14:07:35.521837: E external/local_xla/xla/stream_executor/cuda/cuda_blas.cc:1442] Unable to register cuBLAS factory: Attempting to register factory for plugin cuBLAS when one has already been registered\n",
      "2024-07-03 14:07:35.529985: I tensorflow/core/platform/cpu_feature_guard.cc:210] This TensorFlow binary is optimized to use available CPU instructions in performance-critical operations.\n",
      "To enable the following instructions: AVX2 AVX_VNNI FMA, in other operations, rebuild TensorFlow with the appropriate compiler flags.\n",
      "2024-07-03 14:07:36.082138: W tensorflow/compiler/tf2tensorrt/utils/py_utils.cc:38] TF-TRT Warning: Could not find TensorRT\n"
     ]
    }
   ],
   "source": [
    "import numpy as np\n",
    "import tensorflow as tf\n",
    "import pickle"
   ]
  },
  {
   "cell_type": "markdown",
   "id": "8bc54180-a69a-436a-83c9-b9c35e2787e9",
   "metadata": {},
   "source": [
    "## Load the Model and Scaler"
   ]
  },
  {
   "cell_type": "code",
   "execution_count": 4,
   "id": "179facdc-bb4a-402f-80e9-8665561cadbd",
   "metadata": {},
   "outputs": [
    {
     "name": "stderr",
     "output_type": "stream",
     "text": [
      "2024-07-03 14:08:04.461614: I external/local_xla/xla/stream_executor/cuda/cuda_diagnostics.cc:134] retrieving CUDA diagnostic information for host: rover-Victus-by-HP-Gaming-Laptop-15-fa0xxx\n",
      "2024-07-03 14:08:04.461630: I external/local_xla/xla/stream_executor/cuda/cuda_diagnostics.cc:141] hostname: rover-Victus-by-HP-Gaming-Laptop-15-fa0xxx\n",
      "2024-07-03 14:08:04.461693: I external/local_xla/xla/stream_executor/cuda/cuda_diagnostics.cc:165] libcuda reported version is: NOT_FOUND: was unable to find libcuda.so DSO loaded into this program\n",
      "2024-07-03 14:08:04.461711: I external/local_xla/xla/stream_executor/cuda/cuda_diagnostics.cc:169] kernel reported version is: 535.171.4\n",
      "WARNING:absl:Compiled the loaded model, but the compiled metrics have yet to be built. `model.compile_metrics` will be empty until you train or evaluate the model.\n"
     ]
    }
   ],
   "source": [
    "scaler_deep_learning = pickle.load(open('scaler','rb'))\n",
    "model = tf.keras.models.load_model('audioBooks_model.h5')"
   ]
  },
  {
   "cell_type": "markdown",
   "id": "cbd9c1f6-7ac2-4246-908d-e21dfa3b60e3",
   "metadata": {},
   "source": [
    "## Load New Data"
   ]
  },
  {
   "cell_type": "code",
   "execution_count": 5,
   "id": "74cc0eb6-9f46-44c0-9fdb-0b9600785fbf",
   "metadata": {},
   "outputs": [],
   "source": [
    "raw_data = np.loadtxt('New_Audiobooks_Data.csv',delimiter = ',')\n",
    "all_inputs = raw_data[:,1:] "
   ]
  },
  {
   "cell_type": "markdown",
   "id": "79e38fe7-3914-4a4b-b347-d96101101386",
   "metadata": {},
   "source": [
    "## Standardize the Data"
   ]
  },
  {
   "cell_type": "code",
   "execution_count": 6,
   "id": "9c3106a2-7b6e-4967-9864-fd5b536eef9d",
   "metadata": {},
   "outputs": [],
   "source": [
    "scaled_data = scaler_deep_learning.transform(all_inputs)"
   ]
  },
  {
   "cell_type": "markdown",
   "id": "db29bd79-ad4d-43c0-9081-68b2011d09ee",
   "metadata": {},
   "source": [
    "## Predict the Probability of Conversion"
   ]
  },
  {
   "cell_type": "code",
   "execution_count": 8,
   "id": "2b13d0e6-8d4d-42cb-ae88-8c3dbf922724",
   "metadata": {},
   "outputs": [
    {
     "name": "stdout",
     "output_type": "stream",
     "text": [
      "\u001b[1m1/1\u001b[0m \u001b[32m━━━━━━━━━━━━━━━━━━━━\u001b[0m\u001b[37m\u001b[0m \u001b[1m0s\u001b[0m 17ms/step\n"
     ]
    },
    {
     "data": {
      "text/plain": [
       "array([0.01, 0.  , 0.  , 1.  , 0.  , 0.  , 0.  , 0.  , 0.  , 0.58, 0.  ,\n",
       "       0.58, 0.85, 0.  , 0.  , 0.  , 0.65, 0.46, 0.54, 0.99, 0.  , 1.  ,\n",
       "       1.  , 0.  , 0.  , 0.99, 0.21, 0.  , 1.  , 1.  ], dtype=float32)"
      ]
     },
     "execution_count": 8,
     "metadata": {},
     "output_type": "execute_result"
    }
   ],
   "source": [
    "model.predict(scaled_data)[:,1].round(2)"
   ]
  },
  {
   "cell_type": "code",
   "execution_count": 9,
   "id": "57688489-4633-4e90-a952-4773bd550f76",
   "metadata": {},
   "outputs": [
    {
     "name": "stdout",
     "output_type": "stream",
     "text": [
      "\u001b[1m1/1\u001b[0m \u001b[32m━━━━━━━━━━━━━━━━━━━━\u001b[0m\u001b[37m\u001b[0m \u001b[1m0s\u001b[0m 16ms/step\n"
     ]
    },
    {
     "data": {
      "text/plain": [
       "array([0, 0, 0, 1, 0, 0, 0, 0, 0, 1, 0, 1, 1, 0, 0, 0, 1, 0, 1, 1, 0, 1,\n",
       "       1, 0, 0, 1, 0, 0, 1, 1])"
      ]
     },
     "execution_count": 9,
     "metadata": {},
     "output_type": "execute_result"
    }
   ],
   "source": [
    "np.argmax(model.predict(scaled_data),1)"
   ]
  },
  {
   "cell_type": "code",
   "execution_count": null,
   "id": "9b27f47a-0db6-464d-b5b2-594de4635558",
   "metadata": {},
   "outputs": [],
   "source": []
  }
 ],
 "metadata": {
  "kernelspec": {
   "display_name": "Python 3 (ipykernel)",
   "language": "python",
   "name": "python3"
  },
  "language_info": {
   "codemirror_mode": {
    "name": "ipython",
    "version": 3
   },
   "file_extension": ".py",
   "mimetype": "text/x-python",
   "name": "python",
   "nbconvert_exporter": "python",
   "pygments_lexer": "ipython3",
   "version": "3.10.12"
  }
 },
 "nbformat": 4,
 "nbformat_minor": 5
}
