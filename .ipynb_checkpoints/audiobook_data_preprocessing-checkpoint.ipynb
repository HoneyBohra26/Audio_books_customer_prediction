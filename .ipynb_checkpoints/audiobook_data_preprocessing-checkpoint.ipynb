{
 "cells": [
  {
   "cell_type": "code",
   "execution_count": 1,
   "id": "b30b4bc2-1485-4d4e-ae4a-9cfc0ca4d5a1",
   "metadata": {},
   "outputs": [],
   "source": [
    "import numpy as np\n",
    "from sklearn import preprocessing\n",
    "from sklearn.preprocessing import StandardScaler\n",
    "import pickle"
   ]
  },
  {
   "cell_type": "markdown",
   "id": "66f5435a-e278-435f-baa7-c58a5d3d942b",
   "metadata": {},
   "source": [
    "## Load the data"
   ]
  },
  {
   "cell_type": "code",
   "execution_count": 2,
   "id": "7d752199-0297-43ee-8c72-715ae1a644c9",
   "metadata": {},
   "outputs": [],
   "source": [
    "raw_data = np.loadtxt('Audiobooks-data.csv',delimiter = ',')\n",
    "unscaled_inputs_all = raw_data[:,1:-1]\n",
    "targets_all = raw_data[:,-1]"
   ]
  },
  {
   "cell_type": "markdown",
   "id": "e9a9fff3-b9c2-49d1-a334-3b76b83029ca",
   "metadata": {},
   "source": [
    "## Balance The Dataset"
   ]
  },
  {
   "cell_type": "code",
   "execution_count": 3,
   "id": "ba0a4456-98be-404c-9590-4f4a5b0ce1d8",
   "metadata": {},
   "outputs": [
    {
     "data": {
      "text/plain": [
       "(2237, (4474, 10), (4474,))"
      ]
     },
     "execution_count": 3,
     "metadata": {},
     "output_type": "execute_result"
    }
   ],
   "source": [
    "num_one_targets = int(np.sum(targets_all))\n",
    "zero_targets_counter =0\n",
    "remove_indices = []\n",
    "for i in range(targets_all.shape[0]):\n",
    "    if targets_all[i] ==0:\n",
    "        zero_targets_counter+=1\n",
    "        if zero_targets_counter > num_one_targets:\n",
    "         remove_indices.append(i)\n",
    "\n",
    "unscaled_input_equal_priors = np.delete(unscaled_inputs_all,remove_indices,axis=0)\n",
    "target_equal_priors = np.delete(targets_all,remove_indices,axis=0)\n",
    "\n",
    "num_one_targets,unscaled_input_equal_priors.shape,target_equal_priors.shape\n"
   ]
  },
  {
   "cell_type": "markdown",
   "id": "5e8f80a6-66ed-4137-beb4-f9c55e8836ba",
   "metadata": {},
   "source": [
    "## Standardize The Inputs"
   ]
  },
  {
   "cell_type": "code",
   "execution_count": 4,
   "id": "f4b70cb3-95fb-4780-9074-18b7cabcb4b6",
   "metadata": {},
   "outputs": [
    {
     "data": {
      "text/plain": [
       "(4474, 10)"
      ]
     },
     "execution_count": 4,
     "metadata": {},
     "output_type": "execute_result"
    }
   ],
   "source": [
    "scaler = StandardScaler()\n",
    "scaled_inputs = scaler.fit_transform(unscaled_input_equal_priors)\n",
    "scaled_inputs.shape"
   ]
  },
  {
   "cell_type": "code",
   "execution_count": 5,
   "id": "e6ee1833-a411-4919-94ed-30b42b7c547b",
   "metadata": {},
   "outputs": [
    {
     "data": {
      "text/plain": [
       "(4474,)"
      ]
     },
     "execution_count": 5,
     "metadata": {},
     "output_type": "execute_result"
    }
   ],
   "source": [
    "shuffled_indices = np.arange(scaled_inputs.shape[0])\n",
    "np.random.shuffle(shuffled_indices)\n",
    "\n",
    "shuffled_inputs = scaled_inputs[shuffled_indices]\n",
    "shuffled_targets = target_equal_priors[shuffled_indices]\n",
    "shuffled_indices.shape"
   ]
  },
  {
   "cell_type": "markdown",
   "id": "1cf01631-d527-451d-8ee7-8db4b600cf8a",
   "metadata": {},
   "source": [
    "## Split the Dataset"
   ]
  },
  {
   "cell_type": "code",
   "execution_count": 6,
   "id": "b5eadf95-a9f9-43b3-b47c-5deebb90663e",
   "metadata": {},
   "outputs": [
    {
     "name": "stdout",
     "output_type": "stream",
     "text": [
      "1809 3579 0.5054484492875104\n",
      "211 447 0.4720357941834452\n",
      "217 448 0.484375\n"
     ]
    }
   ],
   "source": [
    "sample_data_count = int(shuffled_inputs.shape[0])\n",
    "\n",
    "train_data_count = int(0.8*sample_data_count)\n",
    "validation_data_count = int(0.1*sample_data_count)\n",
    "test_data_count = sample_data_count-train_data_count-validation_data_count\n",
    "\n",
    "train_inputs = shuffled_inputs[:train_data_count]\n",
    "train_targets = shuffled_targets[:train_data_count]\n",
    "\n",
    "validation_inputs =shuffled_inputs[train_data_count:train_data_count+validation_data_count]\n",
    "validation_targets = shuffled_targets[train_data_count:train_data_count+validation_data_count]\n",
    "\n",
    "test_inputs = shuffled_inputs[train_data_count+validation_data_count:]\n",
    "test_targets = shuffled_targets[train_data_count+validation_data_count:]\n",
    "\n",
    "print(int(np.sum(train_targets)), train_data_count, int(np.sum(train_targets))/train_data_count)\n",
    "print(int(np.sum(validation_targets)), validation_data_count, int(np.sum(validation_targets))/validation_data_count)\n",
    "print(int(np.sum(test_targets)), test_data_count, int(np.sum(test_targets))/test_data_count)"
   ]
  },
  {
   "cell_type": "markdown",
   "id": "21bea7ba-7f49-4f28-822d-3337e6791db9",
   "metadata": {},
   "source": [
    "## Save the three datasets in *.npz"
   ]
  },
  {
   "cell_type": "code",
   "execution_count": 7,
   "id": "e3763fe7-5aca-492e-b475-059f12f39da3",
   "metadata": {},
   "outputs": [],
   "source": [
    "np.savez('Audiobooks_train_data',input = train_inputs ,target = train_targets)\n",
    "np.savez('Audiobooks_validation_data',input = validation_inputs, target = validation_targets)\n",
    "np.savez('Audiobooks_test_data',input = test_inputs, target = test_targets)"
   ]
  },
  {
   "cell_type": "code",
   "execution_count": 8,
   "id": "23df2ce4-8950-4cac-afe5-400b3870aafb",
   "metadata": {},
   "outputs": [],
   "source": [
    "pickle.dump(scaler,open('scaler','wb'))"
   ]
  },
  {
   "cell_type": "code",
   "execution_count": null,
   "id": "8df0a1cc-d24c-4060-bc4b-df0e08f43d4c",
   "metadata": {},
   "outputs": [],
   "source": []
  },
  {
   "cell_type": "code",
   "execution_count": null,
   "id": "af636a27-e598-4d37-a4a0-40542d8de906",
   "metadata": {},
   "outputs": [],
   "source": []
  },
  {
   "cell_type": "code",
   "execution_count": null,
   "id": "8354423b-6411-44e1-9be3-d4e502cc2ac7",
   "metadata": {},
   "outputs": [],
   "source": []
  },
  {
   "cell_type": "code",
   "execution_count": null,
   "id": "3ecd6f99-87f8-467b-8018-522e0589cee2",
   "metadata": {},
   "outputs": [],
   "source": []
  }
 ],
 "metadata": {
  "kernelspec": {
   "display_name": "Python 3 (ipykernel)",
   "language": "python",
   "name": "python3"
  },
  "language_info": {
   "codemirror_mode": {
    "name": "ipython",
    "version": 3
   },
   "file_extension": ".py",
   "mimetype": "text/x-python",
   "name": "python",
   "nbconvert_exporter": "python",
   "pygments_lexer": "ipython3",
   "version": "3.10.12"
  }
 },
 "nbformat": 4,
 "nbformat_minor": 5
}
