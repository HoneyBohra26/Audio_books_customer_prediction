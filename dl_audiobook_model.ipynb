{
 "cells": [
  {
   "cell_type": "code",
   "execution_count": 1,
   "id": "a5301cd0-1cf2-4692-9da7-cad7b4668009",
   "metadata": {},
   "outputs": [
    {
     "name": "stderr",
     "output_type": "stream",
     "text": [
      "2024-08-11 16:15:22.288980: I tensorflow/core/util/port.cc:110] oneDNN custom operations are on. You may see slightly different numerical results due to floating-point round-off errors from different computation orders. To turn them off, set the environment variable `TF_ENABLE_ONEDNN_OPTS=0`.\n",
      "2024-08-11 16:15:22.298745: I tensorflow/tsl/cuda/cudart_stub.cc:28] Could not find cuda drivers on your machine, GPU will not be used.\n",
      "2024-08-11 16:15:22.327338: I tensorflow/tsl/cuda/cudart_stub.cc:28] Could not find cuda drivers on your machine, GPU will not be used.\n",
      "2024-08-11 16:15:22.328023: I tensorflow/core/platform/cpu_feature_guard.cc:182] This TensorFlow binary is optimized to use available CPU instructions in performance-critical operations.\n",
      "To enable the following instructions: AVX2 AVX_VNNI FMA, in other operations, rebuild TensorFlow with the appropriate compiler flags.\n",
      "2024-08-11 16:15:22.957641: W tensorflow/compiler/tf2tensorrt/utils/py_utils.cc:38] TF-TRT Warning: Could not find TensorRT\n"
     ]
    }
   ],
   "source": [
    "import numpy as np\n",
    "import tensorflow as tf"
   ]
  },
  {
   "cell_type": "markdown",
   "id": "c24933c9-69df-465d-afb8-890c8d874871",
   "metadata": {},
   "source": [
    "## Import the Data"
   ]
  },
  {
   "cell_type": "code",
   "execution_count": 2,
   "id": "03494f38-19f6-4c8b-8b45-0db1f3446671",
   "metadata": {},
   "outputs": [
    {
     "data": {
      "text/plain": [
       "(3579, 10)"
      ]
     },
     "execution_count": 2,
     "metadata": {},
     "output_type": "execute_result"
    }
   ],
   "source": [
    "train_data = np.load('Audiobooks_train_data.npz')\n",
    "train_input = train_data['input'].astype(float)\n",
    "train_target = train_data['target'].astype(int)\n",
    "\n",
    "validation_data = np.load('Audiobooks_validation_data.npz')\n",
    "validation_input = validation_data['input'].astype(float)\n",
    "validation_target = validation_data['target'].astype(int)\n",
    "\n",
    "test_data = np.load('Audiobooks_test_data.npz')\n",
    "test_input = test_data['input'].astype(float)\n",
    "test_target = test_data['target'].astype(int)\n",
    "\n",
    "train_input.shape"
   ]
  },
  {
   "cell_type": "markdown",
   "id": "4e3f694e-67d6-4496-8b14-10902736b06a",
   "metadata": {},
   "source": [
    "## Model"
   ]
  },
  {
   "cell_type": "code",
   "execution_count": 3,
   "id": "e67efc8d-003f-4cf0-bfde-e14d62fdd429",
   "metadata": {},
   "outputs": [],
   "source": [
    "output_layer = 2\n",
    "hidden_layer = 100\n",
    "\n",
    "model = tf.keras.Sequential([\n",
    "                            tf.keras.layers.Dense(hidden_layer,activation = 'relu'),\n",
    "                            tf.keras.layers.Dense(hidden_layer,activation = 'relu'),\n",
    "                          \n",
    "                            tf.keras.layers.Dense(output_layer,activation = 'softmax')\n",
    "    \n",
    "])\n",
    "\n",
    "model.compile(optimizer = tf.keras.optimizers.Adam(), loss = 'sparse_categorical_crossentropy', metrics = ['accuracy'])"
   ]
  },
  {
   "cell_type": "markdown",
   "id": "db612f5a-5372-4328-be70-47cb33aea035",
   "metadata": {},
   "source": [
    "## Train the Model"
   ]
  },
  {
   "cell_type": "code",
   "execution_count": 4,
   "id": "e5f0929d-8351-4f20-a550-b19dd076aa47",
   "metadata": {},
   "outputs": [
    {
     "name": "stdout",
     "output_type": "stream",
     "text": [
      "Epoch 1/100\n",
      "36/36 - 0s - loss: 0.5295 - accuracy: 0.7144 - val_loss: 0.4043 - val_accuracy: 0.8166 - 464ms/epoch - 13ms/step\n",
      "Epoch 2/100\n",
      "36/36 - 0s - loss: 0.4174 - accuracy: 0.7868 - val_loss: 0.3515 - val_accuracy: 0.8345 - 58ms/epoch - 2ms/step\n",
      "Epoch 3/100\n",
      "36/36 - 0s - loss: 0.3821 - accuracy: 0.7988 - val_loss: 0.3491 - val_accuracy: 0.8009 - 66ms/epoch - 2ms/step\n",
      "Epoch 4/100\n",
      "36/36 - 0s - loss: 0.3670 - accuracy: 0.7994 - val_loss: 0.3249 - val_accuracy: 0.8367 - 65ms/epoch - 2ms/step\n",
      "Epoch 5/100\n",
      "36/36 - 0s - loss: 0.3562 - accuracy: 0.8156 - val_loss: 0.3277 - val_accuracy: 0.8277 - 60ms/epoch - 2ms/step\n",
      "Epoch 6/100\n",
      "36/36 - 0s - loss: 0.3547 - accuracy: 0.8061 - val_loss: 0.3198 - val_accuracy: 0.8345 - 52ms/epoch - 1ms/step\n",
      "Epoch 7/100\n",
      "36/36 - 0s - loss: 0.3457 - accuracy: 0.8209 - val_loss: 0.3191 - val_accuracy: 0.8367 - 53ms/epoch - 1ms/step\n",
      "Epoch 8/100\n",
      "36/36 - 0s - loss: 0.3384 - accuracy: 0.8203 - val_loss: 0.3328 - val_accuracy: 0.8233 - 68ms/epoch - 2ms/step\n",
      "Epoch 9/100\n",
      "36/36 - 0s - loss: 0.3380 - accuracy: 0.8192 - val_loss: 0.3185 - val_accuracy: 0.8434 - 54ms/epoch - 1ms/step\n",
      "Epoch 10/100\n",
      "36/36 - 0s - loss: 0.3327 - accuracy: 0.8212 - val_loss: 0.3164 - val_accuracy: 0.8255 - 52ms/epoch - 1ms/step\n",
      "Epoch 11/100\n",
      "36/36 - 0s - loss: 0.3355 - accuracy: 0.8217 - val_loss: 0.3279 - val_accuracy: 0.8098 - 52ms/epoch - 1ms/step\n",
      "Epoch 12/100\n",
      "36/36 - 0s - loss: 0.3314 - accuracy: 0.8181 - val_loss: 0.3231 - val_accuracy: 0.8121 - 54ms/epoch - 2ms/step\n",
      "Epoch 13/100\n",
      "36/36 - 0s - loss: 0.3274 - accuracy: 0.8189 - val_loss: 0.3145 - val_accuracy: 0.8322 - 63ms/epoch - 2ms/step\n",
      "Epoch 14/100\n",
      "36/36 - 0s - loss: 0.3255 - accuracy: 0.8296 - val_loss: 0.3128 - val_accuracy: 0.8322 - 55ms/epoch - 2ms/step\n",
      "Epoch 15/100\n",
      "36/36 - 0s - loss: 0.3255 - accuracy: 0.8170 - val_loss: 0.3104 - val_accuracy: 0.8345 - 51ms/epoch - 1ms/step\n",
      "Epoch 16/100\n",
      "36/36 - 0s - loss: 0.3219 - accuracy: 0.8206 - val_loss: 0.3043 - val_accuracy: 0.8434 - 57ms/epoch - 2ms/step\n",
      "Epoch 17/100\n",
      "36/36 - 0s - loss: 0.3187 - accuracy: 0.8276 - val_loss: 0.3325 - val_accuracy: 0.8054 - 53ms/epoch - 1ms/step\n",
      "Epoch 18/100\n",
      "36/36 - 0s - loss: 0.3193 - accuracy: 0.8256 - val_loss: 0.3167 - val_accuracy: 0.8322 - 63ms/epoch - 2ms/step\n",
      "Epoch 19/100\n",
      "36/36 - 0s - loss: 0.3201 - accuracy: 0.8229 - val_loss: 0.3189 - val_accuracy: 0.8322 - 43ms/epoch - 1ms/step\n",
      "Epoch 20/100\n",
      "36/36 - 0s - loss: 0.3157 - accuracy: 0.8254 - val_loss: 0.3218 - val_accuracy: 0.8233 - 42ms/epoch - 1ms/step\n",
      "Epoch 21/100\n",
      "36/36 - 0s - loss: 0.3199 - accuracy: 0.8240 - val_loss: 0.3151 - val_accuracy: 0.8367 - 45ms/epoch - 1ms/step\n"
     ]
    },
    {
     "data": {
      "text/plain": [
       "<keras.callbacks.History at 0x7e21ac745d90>"
      ]
     },
     "execution_count": 4,
     "metadata": {},
     "output_type": "execute_result"
    }
   ],
   "source": [
    "num_epochs = 100\n",
    "batchSize = 100\n",
    "early_stopping = tf.keras.callbacks.EarlyStopping(patience = 5)\n",
    "model.fit(train_input, train_target,\n",
    "          epochs = num_epochs,\n",
    "          batch_size=batchSize,\n",
    "          callbacks = early_stopping,\n",
    "          validation_data = (validation_input,validation_target),\n",
    "          verbose = 2)"
   ]
  },
  {
   "cell_type": "markdown",
   "id": "33535246-bc93-494a-a602-b2dc1aed5e03",
   "metadata": {},
   "source": [
    "## Test Accuracy"
   ]
  },
  {
   "cell_type": "code",
   "execution_count": 5,
   "id": "f92da47f-e96d-4629-8002-2936a1f88ebd",
   "metadata": {},
   "outputs": [
    {
     "name": "stdout",
     "output_type": "stream",
     "text": [
      "14/14 [==============================] - 0s 870us/step - loss: 0.3480 - accuracy: 0.8103\n"
     ]
    }
   ],
   "source": [
    "test_loss,test_accuracy, = model.evaluate(test_input,test_target)"
   ]
  },
  {
   "cell_type": "code",
   "execution_count": 6,
   "id": "a6ee37d0-521f-4d49-8d2d-75ee92dc7c10",
   "metadata": {},
   "outputs": [
    {
     "name": "stdout",
     "output_type": "stream",
     "text": [
      "\n",
      "Test loss: 0.35. Test accuracy: 81.03%\n"
     ]
    }
   ],
   "source": [
    "print('\\nTest loss: {0:0.2f}. Test accuracy: {1:0.2f}%'.format(test_loss,test_accuracy*100.))"
   ]
  },
  {
   "cell_type": "markdown",
   "id": "e5cadbbb-710c-42c6-9662-f929e9c11b0d",
   "metadata": {},
   "source": [
    "## Obtain the probability for a customer to convert"
   ]
  },
  {
   "cell_type": "code",
   "execution_count": 7,
   "id": "e34a4f84-7ada-4c8f-a82c-89c407e0c88a",
   "metadata": {},
   "outputs": [
    {
     "name": "stdout",
     "output_type": "stream",
     "text": [
      "14/14 [==============================] - 0s 832us/step\n"
     ]
    },
    {
     "data": {
      "text/plain": [
       "array([0.  , 1.  , 0.72, 1.  , 0.  , 0.81, 0.34, 0.34, 1.  , 0.  , 0.91,\n",
       "       0.76, 1.  , 0.78, 1.  , 0.  , 0.  , 0.43, 1.  , 0.69, 0.  , 1.  ,\n",
       "       0.  , 0.85, 0.  , 0.  , 0.23, 0.41, 1.  , 0.91, 0.  , 0.11, 0.  ,\n",
       "       1.  , 0.49, 0.46, 0.94, 0.32, 0.  , 0.  , 0.42, 0.  , 0.43, 0.  ,\n",
       "       0.85, 0.52, 1.  , 0.51, 1.  , 0.63, 0.  , 0.99, 0.34, 0.51, 1.  ,\n",
       "       0.  , 0.51, 1.  , 0.49, 1.  , 0.84, 0.  , 0.92, 0.82, 0.58, 0.76,\n",
       "       0.77, 0.56, 0.72, 0.92, 0.  , 0.  , 0.39, 0.97, 0.  , 0.58, 0.37,\n",
       "       0.  , 1.  , 1.  , 0.  , 0.32, 0.55, 0.17, 0.  , 0.41, 0.47, 0.34,\n",
       "       1.  , 1.  , 0.34, 0.72, 0.34, 0.46, 0.71, 0.81, 1.  , 0.42, 0.51,\n",
       "       0.01, 0.  , 0.  , 0.4 , 0.34, 0.95, 0.  , 1.  , 0.85, 0.75, 0.58,\n",
       "       0.51, 0.56, 0.58, 0.52, 1.  , 1.  , 0.51, 0.99, 1.  , 0.  , 0.58,\n",
       "       1.  , 0.51, 0.  , 1.  , 0.76, 0.63, 0.46, 0.  , 0.  , 0.87, 1.  ,\n",
       "       0.  , 0.61, 0.63, 0.  , 0.86, 0.74, 0.64, 0.86, 0.  , 0.  , 0.34,\n",
       "       0.5 , 0.  , 0.65, 0.  , 0.34, 0.42, 0.98, 0.  , 0.52, 1.  , 0.  ,\n",
       "       0.  , 0.51, 0.97, 0.86, 0.82, 0.  , 0.35, 0.  , 0.  , 0.95, 0.69,\n",
       "       1.  , 1.  , 0.84, 0.72, 0.77, 0.63, 0.28, 1.  , 1.  , 1.  , 0.64,\n",
       "       0.89, 1.  , 0.76, 1.  , 0.  , 0.  , 0.99, 0.71, 0.3 , 0.58, 0.  ,\n",
       "       0.99, 0.59, 0.6 , 1.  , 0.53, 0.58, 0.95, 0.36, 0.51, 0.  , 0.89,\n",
       "       0.66, 0.  , 0.86, 0.64, 0.55, 0.52, 0.  , 0.58, 0.96, 0.  , 0.87,\n",
       "       1.  , 0.67, 0.79, 0.42, 0.75, 0.85, 0.78, 0.06, 0.66, 1.  , 0.  ,\n",
       "       0.91, 1.  , 0.82, 0.01, 0.56, 0.  , 0.1 , 1.  , 1.  , 0.  , 0.34,\n",
       "       0.68, 0.84, 0.87, 0.77, 0.91, 0.85, 0.8 , 0.06, 0.  , 0.  , 0.36,\n",
       "       0.98, 1.  , 0.  , 0.56, 1.  , 0.51, 0.07, 1.  , 0.64, 1.  , 0.72,\n",
       "       0.75, 0.97, 0.  , 0.58, 1.  , 0.  , 1.  , 0.58, 0.  , 0.91, 0.52,\n",
       "       1.  , 1.  , 0.  , 0.72, 0.37, 0.  , 0.67, 0.51, 1.  , 1.  , 1.  ,\n",
       "       0.  , 0.33, 0.84, 0.84, 0.  , 1.  , 0.56, 0.02, 0.85, 0.56, 0.51,\n",
       "       0.69, 0.01, 0.66, 0.94, 0.78, 0.51, 0.7 , 0.  , 0.  , 0.01, 0.  ,\n",
       "       0.67, 1.  , 0.01, 0.59, 0.  , 0.58, 1.  , 0.01, 0.34, 0.51, 1.  ,\n",
       "       0.  , 0.56, 0.46, 0.  , 0.84, 0.59, 0.55, 0.66, 0.  , 1.  , 0.  ,\n",
       "       1.  , 0.  , 0.99, 0.  , 0.78, 0.51, 0.01, 0.  , 0.  , 0.78, 0.9 ,\n",
       "       0.  , 1.  , 0.54, 0.79, 0.12, 0.71, 0.51, 0.84, 1.  , 0.36, 0.  ,\n",
       "       0.64, 0.69, 0.57, 1.  , 0.65, 0.78, 0.  , 1.  , 0.95, 0.85, 0.  ,\n",
       "       0.31, 0.  , 1.  , 1.  , 0.  , 0.34, 0.56, 0.64, 0.65, 0.  , 0.  ,\n",
       "       0.23, 0.07, 0.42, 0.96, 0.  , 1.  , 0.58, 0.66, 0.  , 0.83, 0.  ,\n",
       "       0.16, 0.  , 0.  , 0.52, 0.  , 0.51, 0.48, 0.  , 0.34, 1.  , 0.  ,\n",
       "       0.33, 0.36, 0.7 , 0.51, 0.83, 0.39, 1.  , 0.51, 0.73, 0.34, 0.34,\n",
       "       0.43, 0.34, 0.65, 0.82, 0.3 , 0.  , 0.99, 0.51, 1.  , 0.87, 0.56,\n",
       "       1.  , 0.52, 0.  , 1.  , 0.  , 0.  , 0.  , 1.  , 0.92, 0.34, 0.  ,\n",
       "       0.89, 0.39, 0.51, 1.  , 0.5 , 0.99, 0.82, 0.  , 0.64, 1.  , 0.85,\n",
       "       1.  , 0.84, 0.  , 0.8 , 0.  , 0.  , 0.42, 0.25, 1.  , 0.  , 0.64,\n",
       "       0.  , 0.  , 1.  , 0.42, 0.34, 0.87, 1.  , 0.  ], dtype=float32)"
      ]
     },
     "execution_count": 7,
     "metadata": {},
     "output_type": "execute_result"
    }
   ],
   "source": [
    "model.predict(test_input).round(2)[:,1]"
   ]
  },
  {
   "cell_type": "code",
   "execution_count": 8,
   "id": "3e0d7b29-318f-4fda-91c0-ea0996034f6f",
   "metadata": {},
   "outputs": [
    {
     "name": "stdout",
     "output_type": "stream",
     "text": [
      "14/14 [==============================] - 0s 681us/step\n"
     ]
    },
    {
     "data": {
      "text/plain": [
       "array([0, 1, 1, 1, 0, 1, 0, 0, 1, 0, 1, 1, 1, 1, 1, 0, 0, 0, 1, 1, 0, 1,\n",
       "       0, 1, 0, 0, 0, 0, 1, 1, 0, 0, 0, 1, 0, 0, 1, 0, 0, 0, 0, 0, 0, 0,\n",
       "       1, 1, 1, 1, 1, 1, 0, 1, 0, 1, 1, 0, 1, 1, 0, 1, 1, 0, 1, 1, 1, 1,\n",
       "       1, 1, 1, 1, 0, 0, 0, 1, 0, 1, 0, 0, 1, 1, 0, 0, 1, 0, 0, 0, 0, 0,\n",
       "       1, 1, 0, 1, 0, 0, 1, 1, 1, 0, 1, 0, 0, 0, 0, 0, 1, 0, 1, 1, 1, 1,\n",
       "       1, 1, 1, 1, 1, 1, 1, 1, 1, 0, 1, 1, 1, 0, 1, 1, 1, 0, 0, 0, 1, 1,\n",
       "       0, 1, 1, 0, 1, 1, 1, 1, 0, 0, 0, 1, 0, 1, 0, 0, 0, 1, 0, 1, 1, 0,\n",
       "       0, 1, 1, 1, 1, 0, 0, 0, 0, 1, 1, 1, 1, 1, 1, 1, 1, 0, 1, 1, 1, 1,\n",
       "       1, 1, 1, 1, 0, 0, 1, 1, 0, 1, 0, 1, 1, 1, 1, 1, 1, 1, 0, 1, 0, 1,\n",
       "       1, 0, 1, 1, 1, 1, 0, 1, 1, 0, 1, 1, 1, 1, 0, 1, 1, 1, 0, 1, 1, 0,\n",
       "       1, 1, 1, 0, 1, 0, 0, 1, 1, 0, 0, 1, 1, 1, 1, 1, 1, 1, 0, 0, 0, 0,\n",
       "       1, 1, 0, 1, 1, 1, 0, 1, 1, 1, 1, 1, 1, 0, 1, 1, 0, 1, 1, 0, 1, 1,\n",
       "       1, 1, 0, 1, 0, 0, 1, 1, 1, 1, 1, 0, 0, 1, 1, 0, 1, 1, 0, 1, 1, 1,\n",
       "       1, 0, 1, 1, 1, 1, 1, 0, 0, 0, 0, 1, 1, 0, 1, 0, 1, 1, 0, 0, 1, 1,\n",
       "       0, 1, 0, 0, 1, 1, 1, 1, 0, 1, 0, 1, 0, 1, 0, 1, 1, 0, 0, 0, 1, 1,\n",
       "       0, 1, 1, 1, 0, 1, 1, 1, 1, 0, 0, 1, 1, 1, 1, 1, 1, 0, 1, 1, 1, 0,\n",
       "       0, 0, 1, 1, 0, 0, 1, 1, 1, 0, 0, 0, 0, 0, 1, 0, 1, 1, 1, 0, 1, 0,\n",
       "       0, 0, 0, 1, 0, 1, 0, 0, 0, 1, 0, 0, 0, 1, 1, 1, 0, 1, 1, 1, 0, 0,\n",
       "       0, 0, 1, 1, 0, 0, 1, 1, 1, 1, 1, 1, 1, 0, 1, 0, 0, 0, 1, 1, 0, 0,\n",
       "       1, 0, 1, 1, 1, 1, 1, 0, 1, 1, 1, 1, 1, 0, 1, 0, 0, 0, 0, 1, 0, 1,\n",
       "       0, 0, 1, 0, 0, 1, 1, 0])"
      ]
     },
     "execution_count": 8,
     "metadata": {},
     "output_type": "execute_result"
    }
   ],
   "source": [
    "np.argmax(model.predict(test_input),axis=1)"
   ]
  },
  {
   "cell_type": "markdown",
   "id": "eec900ee-5e32-4a13-b166-3beadb758312",
   "metadata": {},
   "source": [
    "## Save the Model"
   ]
  },
  {
   "cell_type": "code",
   "execution_count": 9,
   "id": "f5f08766-0a31-49b0-b8f0-b687bfcdbf7a",
   "metadata": {},
   "outputs": [],
   "source": [
    "model.save('audioBooks_model.h5')"
   ]
  },
  {
   "cell_type": "code",
   "execution_count": null,
   "id": "580af8f6-743d-4efa-8420-cbfda4f69418",
   "metadata": {},
   "outputs": [],
   "source": []
  },
  {
   "cell_type": "code",
   "execution_count": null,
   "id": "642f2ec9-23de-41c4-9263-370398d14063",
   "metadata": {},
   "outputs": [],
   "source": []
  }
 ],
 "metadata": {
  "kernelspec": {
   "display_name": "Python 3 (ipykernel)",
   "language": "python",
   "name": "python3"
  },
  "language_info": {
   "codemirror_mode": {
    "name": "ipython",
    "version": 3
   },
   "file_extension": ".py",
   "mimetype": "text/x-python",
   "name": "python",
   "nbconvert_exporter": "python",
   "pygments_lexer": "ipython3",
   "version": "3.12.4"
  }
 },
 "nbformat": 4,
 "nbformat_minor": 5
}
