import numpy as np
import tensorflow as tf
import pickle





scaler_deep_learning = pickle.load(open('scaler','rb'))
model = tf.keras.models.load_model('audioBooks_model.h5')





raw_data = np.loadtxt('New_Audiobooks_Data.csv',delimiter = ',')
all_inputs = raw_data[:,1:] 





scaled_data = scaler_deep_learning.transform(all_inputs)





model.predict(scaled_data)[:,1].round(2)


np.argmax(model.predict(scaled_data),1)









